{
 "cells": [
  {
   "cell_type": "code",
   "execution_count": 1,
   "id": "f9270ae3",
   "metadata": {
    "_cell_guid": "b1076dfc-b9ad-4769-8c92-a6c4dae69d19",
    "_uuid": "8f2839f25d086af736a60e9eeb907d3b93b6e0e5",
    "execution": {
     "iopub.execute_input": "2022-10-03T09:37:09.284370Z",
     "iopub.status.busy": "2022-10-03T09:37:09.283841Z",
     "iopub.status.idle": "2022-10-03T09:37:09.301299Z",
     "shell.execute_reply": "2022-10-03T09:37:09.299910Z"
    },
    "papermill": {
     "duration": 0.031178,
     "end_time": "2022-10-03T09:37:09.303974",
     "exception": false,
     "start_time": "2022-10-03T09:37:09.272796",
     "status": "completed"
    },
    "tags": []
   },
   "outputs": [
    {
     "name": "stdout",
     "output_type": "stream",
     "text": [
      "/kaggle/input/diabetes-dataset/diabetes2.csv\n"
     ]
    }
   ],
   "source": [
    "# This Python 3 environment comes with many helpful analytics libraries installed\n",
    "# It is defined by the kaggle/python Docker image: https://github.com/kaggle/docker-python\n",
    "# For example, here's several helpful packages to load\n",
    "\n",
    "import numpy as np # linear algebra\n",
    "import pandas as pd # data processing, CSV file I/O (e.g. pd.read_csv)\n",
    "\n",
    "# Input data files are available in the read-only \"../input/\" directory\n",
    "# For example, running this (by clicking run or pressing Shift+Enter) will list all files under the input directory\n",
    "\n",
    "import os\n",
    "for dirname, _, filenames in os.walk('/kaggle/input'):\n",
    "    for filename in filenames:\n",
    "        print(os.path.join(dirname, filename))\n",
    "\n",
    "# You can write up to 20GB to the current directory (/kaggle/working/) that gets preserved as output when you create a version using \"Save & Run All\" \n",
    "# You can also write temporary files to /kaggle/temp/, but they won't be saved outside of the current session"
   ]
  },
  {
   "cell_type": "code",
   "execution_count": 2,
   "id": "40f6a6d1",
   "metadata": {
    "execution": {
     "iopub.execute_input": "2022-10-03T09:37:09.321678Z",
     "iopub.status.busy": "2022-10-03T09:37:09.321303Z",
     "iopub.status.idle": "2022-10-03T09:37:10.532105Z",
     "shell.execute_reply": "2022-10-03T09:37:10.530740Z"
    },
    "papermill": {
     "duration": 1.223111,
     "end_time": "2022-10-03T09:37:10.535273",
     "exception": false,
     "start_time": "2022-10-03T09:37:09.312162",
     "status": "completed"
    },
    "tags": []
   },
   "outputs": [],
   "source": [
    "import matplotlib.pyplot as plt\n",
    "import seaborn as sns"
   ]
  },
  {
   "cell_type": "code",
   "execution_count": 3,
   "id": "4d9bfb93",
   "metadata": {
    "execution": {
     "iopub.execute_input": "2022-10-03T09:37:10.553937Z",
     "iopub.status.busy": "2022-10-03T09:37:10.553346Z",
     "iopub.status.idle": "2022-10-03T09:37:10.579217Z",
     "shell.execute_reply": "2022-10-03T09:37:10.577738Z"
    },
    "papermill": {
     "duration": 0.038507,
     "end_time": "2022-10-03T09:37:10.582308",
     "exception": false,
     "start_time": "2022-10-03T09:37:10.543801",
     "status": "completed"
    },
    "tags": []
   },
   "outputs": [],
   "source": [
    "df = pd.read_csv('/kaggle/input/diabetes-dataset/diabetes2.csv')"
   ]
  },
  {
   "cell_type": "code",
   "execution_count": 4,
   "id": "ed2961e1",
   "metadata": {
    "execution": {
     "iopub.execute_input": "2022-10-03T09:37:10.601038Z",
     "iopub.status.busy": "2022-10-03T09:37:10.600598Z",
     "iopub.status.idle": "2022-10-03T09:37:10.630004Z",
     "shell.execute_reply": "2022-10-03T09:37:10.628728Z"
    },
    "papermill": {
     "duration": 0.042048,
     "end_time": "2022-10-03T09:37:10.632735",
     "exception": false,
     "start_time": "2022-10-03T09:37:10.590687",
     "status": "completed"
    },
    "tags": []
   },
   "outputs": [
    {
     "data": {
      "text/html": [
       "<div>\n",
       "<style scoped>\n",
       "    .dataframe tbody tr th:only-of-type {\n",
       "        vertical-align: middle;\n",
       "    }\n",
       "\n",
       "    .dataframe tbody tr th {\n",
       "        vertical-align: top;\n",
       "    }\n",
       "\n",
       "    .dataframe thead th {\n",
       "        text-align: right;\n",
       "    }\n",
       "</style>\n",
       "<table border=\"1\" class=\"dataframe\">\n",
       "  <thead>\n",
       "    <tr style=\"text-align: right;\">\n",
       "      <th></th>\n",
       "      <th>Pregnancies</th>\n",
       "      <th>Glucose</th>\n",
       "      <th>BloodPressure</th>\n",
       "      <th>SkinThickness</th>\n",
       "      <th>Insulin</th>\n",
       "      <th>BMI</th>\n",
       "      <th>DiabetesPedigreeFunction</th>\n",
       "      <th>Age</th>\n",
       "      <th>Outcome</th>\n",
       "    </tr>\n",
       "  </thead>\n",
       "  <tbody>\n",
       "    <tr>\n",
       "      <th>472</th>\n",
       "      <td>0</td>\n",
       "      <td>119</td>\n",
       "      <td>66</td>\n",
       "      <td>27</td>\n",
       "      <td>0</td>\n",
       "      <td>38.8</td>\n",
       "      <td>0.259</td>\n",
       "      <td>22</td>\n",
       "      <td>0</td>\n",
       "    </tr>\n",
       "    <tr>\n",
       "      <th>654</th>\n",
       "      <td>1</td>\n",
       "      <td>106</td>\n",
       "      <td>70</td>\n",
       "      <td>28</td>\n",
       "      <td>135</td>\n",
       "      <td>34.2</td>\n",
       "      <td>0.142</td>\n",
       "      <td>22</td>\n",
       "      <td>0</td>\n",
       "    </tr>\n",
       "    <tr>\n",
       "      <th>443</th>\n",
       "      <td>8</td>\n",
       "      <td>108</td>\n",
       "      <td>70</td>\n",
       "      <td>0</td>\n",
       "      <td>0</td>\n",
       "      <td>30.5</td>\n",
       "      <td>0.955</td>\n",
       "      <td>33</td>\n",
       "      <td>1</td>\n",
       "    </tr>\n",
       "    <tr>\n",
       "      <th>192</th>\n",
       "      <td>7</td>\n",
       "      <td>159</td>\n",
       "      <td>66</td>\n",
       "      <td>0</td>\n",
       "      <td>0</td>\n",
       "      <td>30.4</td>\n",
       "      <td>0.383</td>\n",
       "      <td>36</td>\n",
       "      <td>1</td>\n",
       "    </tr>\n",
       "    <tr>\n",
       "      <th>555</th>\n",
       "      <td>7</td>\n",
       "      <td>124</td>\n",
       "      <td>70</td>\n",
       "      <td>33</td>\n",
       "      <td>215</td>\n",
       "      <td>25.5</td>\n",
       "      <td>0.161</td>\n",
       "      <td>37</td>\n",
       "      <td>0</td>\n",
       "    </tr>\n",
       "  </tbody>\n",
       "</table>\n",
       "</div>"
      ],
      "text/plain": [
       "     Pregnancies  Glucose  BloodPressure  SkinThickness  Insulin   BMI  \\\n",
       "472            0      119             66             27        0  38.8   \n",
       "654            1      106             70             28      135  34.2   \n",
       "443            8      108             70              0        0  30.5   \n",
       "192            7      159             66              0        0  30.4   \n",
       "555            7      124             70             33      215  25.5   \n",
       "\n",
       "     DiabetesPedigreeFunction  Age  Outcome  \n",
       "472                     0.259   22        0  \n",
       "654                     0.142   22        0  \n",
       "443                     0.955   33        1  \n",
       "192                     0.383   36        1  \n",
       "555                     0.161   37        0  "
      ]
     },
     "execution_count": 4,
     "metadata": {},
     "output_type": "execute_result"
    }
   ],
   "source": [
    "df.sample(5)"
   ]
  },
  {
   "cell_type": "code",
   "execution_count": 5,
   "id": "58b8e9bd",
   "metadata": {
    "execution": {
     "iopub.execute_input": "2022-10-03T09:37:10.653015Z",
     "iopub.status.busy": "2022-10-03T09:37:10.652618Z",
     "iopub.status.idle": "2022-10-03T09:37:10.660222Z",
     "shell.execute_reply": "2022-10-03T09:37:10.658753Z"
    },
    "papermill": {
     "duration": 0.020759,
     "end_time": "2022-10-03T09:37:10.662926",
     "exception": false,
     "start_time": "2022-10-03T09:37:10.642167",
     "status": "completed"
    },
    "tags": []
   },
   "outputs": [
    {
     "data": {
      "text/plain": [
       "(768, 9)"
      ]
     },
     "execution_count": 5,
     "metadata": {},
     "output_type": "execute_result"
    }
   ],
   "source": [
    "df.shape"
   ]
  },
  {
   "cell_type": "code",
   "execution_count": 6,
   "id": "b2d0f6c2",
   "metadata": {
    "execution": {
     "iopub.execute_input": "2022-10-03T09:37:10.684021Z",
     "iopub.status.busy": "2022-10-03T09:37:10.682948Z",
     "iopub.status.idle": "2022-10-03T09:37:10.707666Z",
     "shell.execute_reply": "2022-10-03T09:37:10.706745Z"
    },
    "papermill": {
     "duration": 0.03688,
     "end_time": "2022-10-03T09:37:10.710157",
     "exception": false,
     "start_time": "2022-10-03T09:37:10.673277",
     "status": "completed"
    },
    "tags": []
   },
   "outputs": [
    {
     "data": {
      "text/plain": [
       "0"
      ]
     },
     "execution_count": 6,
     "metadata": {},
     "output_type": "execute_result"
    }
   ],
   "source": [
    "df.duplicated().sum()"
   ]
  },
  {
   "cell_type": "code",
   "execution_count": 7,
   "id": "7c864783",
   "metadata": {
    "execution": {
     "iopub.execute_input": "2022-10-03T09:37:10.728859Z",
     "iopub.status.busy": "2022-10-03T09:37:10.728427Z",
     "iopub.status.idle": "2022-10-03T09:37:10.739279Z",
     "shell.execute_reply": "2022-10-03T09:37:10.737739Z"
    },
    "papermill": {
     "duration": 0.023417,
     "end_time": "2022-10-03T09:37:10.741920",
     "exception": false,
     "start_time": "2022-10-03T09:37:10.718503",
     "status": "completed"
    },
    "tags": []
   },
   "outputs": [
    {
     "data": {
      "text/plain": [
       "Pregnancies                 0\n",
       "Glucose                     0\n",
       "BloodPressure               0\n",
       "SkinThickness               0\n",
       "Insulin                     0\n",
       "BMI                         0\n",
       "DiabetesPedigreeFunction    0\n",
       "Age                         0\n",
       "Outcome                     0\n",
       "dtype: int64"
      ]
     },
     "execution_count": 7,
     "metadata": {},
     "output_type": "execute_result"
    }
   ],
   "source": [
    "df.isnull().sum()"
   ]
  },
  {
   "cell_type": "code",
   "execution_count": 8,
   "id": "88d42ba0",
   "metadata": {
    "execution": {
     "iopub.execute_input": "2022-10-03T09:37:10.765079Z",
     "iopub.status.busy": "2022-10-03T09:37:10.764374Z",
     "iopub.status.idle": "2022-10-03T09:37:10.773923Z",
     "shell.execute_reply": "2022-10-03T09:37:10.772741Z"
    },
    "papermill": {
     "duration": 0.022669,
     "end_time": "2022-10-03T09:37:10.776209",
     "exception": false,
     "start_time": "2022-10-03T09:37:10.753540",
     "status": "completed"
    },
    "tags": []
   },
   "outputs": [
    {
     "data": {
      "text/plain": [
       "Index(['Pregnancies', 'Glucose', 'BloodPressure', 'SkinThickness', 'Insulin',\n",
       "       'BMI', 'DiabetesPedigreeFunction', 'Age', 'Outcome'],\n",
       "      dtype='object')"
      ]
     },
     "execution_count": 8,
     "metadata": {},
     "output_type": "execute_result"
    }
   ],
   "source": [
    "df.columns"
   ]
  },
  {
   "cell_type": "code",
   "execution_count": 9,
   "id": "7c99294b",
   "metadata": {
    "execution": {
     "iopub.execute_input": "2022-10-03T09:37:10.795250Z",
     "iopub.status.busy": "2022-10-03T09:37:10.794857Z",
     "iopub.status.idle": "2022-10-03T09:37:10.808624Z",
     "shell.execute_reply": "2022-10-03T09:37:10.807640Z"
    },
    "papermill": {
     "duration": 0.02594,
     "end_time": "2022-10-03T09:37:10.810781",
     "exception": false,
     "start_time": "2022-10-03T09:37:10.784841",
     "status": "completed"
    },
    "tags": []
   },
   "outputs": [
    {
     "data": {
      "text/html": [
       "<div>\n",
       "<style scoped>\n",
       "    .dataframe tbody tr th:only-of-type {\n",
       "        vertical-align: middle;\n",
       "    }\n",
       "\n",
       "    .dataframe tbody tr th {\n",
       "        vertical-align: top;\n",
       "    }\n",
       "\n",
       "    .dataframe thead th {\n",
       "        text-align: right;\n",
       "    }\n",
       "</style>\n",
       "<table border=\"1\" class=\"dataframe\">\n",
       "  <thead>\n",
       "    <tr style=\"text-align: right;\">\n",
       "      <th></th>\n",
       "      <th>Pregnancies</th>\n",
       "      <th>Glucose</th>\n",
       "      <th>BloodPressure</th>\n",
       "      <th>SkinThickness</th>\n",
       "      <th>Insulin</th>\n",
       "      <th>BMI</th>\n",
       "      <th>DiabetesPedigreeFunction</th>\n",
       "      <th>Age</th>\n",
       "      <th>Outcome</th>\n",
       "    </tr>\n",
       "  </thead>\n",
       "  <tbody>\n",
       "    <tr>\n",
       "      <th>0</th>\n",
       "      <td>6</td>\n",
       "      <td>148</td>\n",
       "      <td>72</td>\n",
       "      <td>35</td>\n",
       "      <td>0</td>\n",
       "      <td>33.6</td>\n",
       "      <td>0.627</td>\n",
       "      <td>50</td>\n",
       "      <td>1</td>\n",
       "    </tr>\n",
       "    <tr>\n",
       "      <th>1</th>\n",
       "      <td>1</td>\n",
       "      <td>85</td>\n",
       "      <td>66</td>\n",
       "      <td>29</td>\n",
       "      <td>0</td>\n",
       "      <td>26.6</td>\n",
       "      <td>0.351</td>\n",
       "      <td>31</td>\n",
       "      <td>0</td>\n",
       "    </tr>\n",
       "    <tr>\n",
       "      <th>2</th>\n",
       "      <td>8</td>\n",
       "      <td>183</td>\n",
       "      <td>64</td>\n",
       "      <td>0</td>\n",
       "      <td>0</td>\n",
       "      <td>23.3</td>\n",
       "      <td>0.672</td>\n",
       "      <td>32</td>\n",
       "      <td>1</td>\n",
       "    </tr>\n",
       "  </tbody>\n",
       "</table>\n",
       "</div>"
      ],
      "text/plain": [
       "   Pregnancies  Glucose  BloodPressure  SkinThickness  Insulin   BMI  \\\n",
       "0            6      148             72             35        0  33.6   \n",
       "1            1       85             66             29        0  26.6   \n",
       "2            8      183             64              0        0  23.3   \n",
       "\n",
       "   DiabetesPedigreeFunction  Age  Outcome  \n",
       "0                     0.627   50        1  \n",
       "1                     0.351   31        0  \n",
       "2                     0.672   32        1  "
      ]
     },
     "execution_count": 9,
     "metadata": {},
     "output_type": "execute_result"
    }
   ],
   "source": [
    "df.head(3)"
   ]
  },
  {
   "cell_type": "code",
   "execution_count": 10,
   "id": "7cfbc80b",
   "metadata": {
    "execution": {
     "iopub.execute_input": "2022-10-03T09:37:10.829894Z",
     "iopub.status.busy": "2022-10-03T09:37:10.829482Z",
     "iopub.status.idle": "2022-10-03T09:37:10.843576Z",
     "shell.execute_reply": "2022-10-03T09:37:10.842644Z"
    },
    "papermill": {
     "duration": 0.026535,
     "end_time": "2022-10-03T09:37:10.845977",
     "exception": false,
     "start_time": "2022-10-03T09:37:10.819442",
     "status": "completed"
    },
    "tags": []
   },
   "outputs": [
    {
     "data": {
      "text/plain": [
       "374"
      ]
     },
     "execution_count": 10,
     "metadata": {},
     "output_type": "execute_result"
    }
   ],
   "source": [
    "df[df.Insulin==0].value_counts().sum()"
   ]
  },
  {
   "cell_type": "code",
   "execution_count": 11,
   "id": "101c366d",
   "metadata": {
    "execution": {
     "iopub.execute_input": "2022-10-03T09:37:10.867135Z",
     "iopub.status.busy": "2022-10-03T09:37:10.865839Z",
     "iopub.status.idle": "2022-10-03T09:37:10.873559Z",
     "shell.execute_reply": "2022-10-03T09:37:10.872665Z"
    },
    "papermill": {
     "duration": 0.02081,
     "end_time": "2022-10-03T09:37:10.875953",
     "exception": false,
     "start_time": "2022-10-03T09:37:10.855143",
     "status": "completed"
    },
    "tags": []
   },
   "outputs": [
    {
     "data": {
      "text/plain": [
       "79.79947916666667"
      ]
     },
     "execution_count": 11,
     "metadata": {},
     "output_type": "execute_result"
    }
   ],
   "source": [
    "df['Insulin'].mean()"
   ]
  },
  {
   "cell_type": "code",
   "execution_count": 12,
   "id": "2bbf14fb",
   "metadata": {
    "execution": {
     "iopub.execute_input": "2022-10-03T09:37:10.897121Z",
     "iopub.status.busy": "2022-10-03T09:37:10.896098Z",
     "iopub.status.idle": "2022-10-03T09:37:10.940934Z",
     "shell.execute_reply": "2022-10-03T09:37:10.939658Z"
    },
    "papermill": {
     "duration": 0.058411,
     "end_time": "2022-10-03T09:37:10.943511",
     "exception": false,
     "start_time": "2022-10-03T09:37:10.885100",
     "status": "completed"
    },
    "tags": []
   },
   "outputs": [
    {
     "data": {
      "text/html": [
       "<div>\n",
       "<style scoped>\n",
       "    .dataframe tbody tr th:only-of-type {\n",
       "        vertical-align: middle;\n",
       "    }\n",
       "\n",
       "    .dataframe tbody tr th {\n",
       "        vertical-align: top;\n",
       "    }\n",
       "\n",
       "    .dataframe thead th {\n",
       "        text-align: right;\n",
       "    }\n",
       "</style>\n",
       "<table border=\"1\" class=\"dataframe\">\n",
       "  <thead>\n",
       "    <tr style=\"text-align: right;\">\n",
       "      <th></th>\n",
       "      <th>Pregnancies</th>\n",
       "      <th>Glucose</th>\n",
       "      <th>BloodPressure</th>\n",
       "      <th>SkinThickness</th>\n",
       "      <th>Insulin</th>\n",
       "      <th>BMI</th>\n",
       "      <th>DiabetesPedigreeFunction</th>\n",
       "      <th>Age</th>\n",
       "      <th>Outcome</th>\n",
       "    </tr>\n",
       "  </thead>\n",
       "  <tbody>\n",
       "    <tr>\n",
       "      <th>count</th>\n",
       "      <td>768.000000</td>\n",
       "      <td>768.000000</td>\n",
       "      <td>768.000000</td>\n",
       "      <td>768.000000</td>\n",
       "      <td>768.000000</td>\n",
       "      <td>768.000000</td>\n",
       "      <td>768.000000</td>\n",
       "      <td>768.000000</td>\n",
       "      <td>768.000000</td>\n",
       "    </tr>\n",
       "    <tr>\n",
       "      <th>mean</th>\n",
       "      <td>3.845052</td>\n",
       "      <td>120.894531</td>\n",
       "      <td>69.105469</td>\n",
       "      <td>20.536458</td>\n",
       "      <td>79.799479</td>\n",
       "      <td>31.992578</td>\n",
       "      <td>0.471876</td>\n",
       "      <td>33.240885</td>\n",
       "      <td>0.348958</td>\n",
       "    </tr>\n",
       "    <tr>\n",
       "      <th>std</th>\n",
       "      <td>3.369578</td>\n",
       "      <td>31.972618</td>\n",
       "      <td>19.355807</td>\n",
       "      <td>15.952218</td>\n",
       "      <td>115.244002</td>\n",
       "      <td>7.884160</td>\n",
       "      <td>0.331329</td>\n",
       "      <td>11.760232</td>\n",
       "      <td>0.476951</td>\n",
       "    </tr>\n",
       "    <tr>\n",
       "      <th>min</th>\n",
       "      <td>0.000000</td>\n",
       "      <td>0.000000</td>\n",
       "      <td>0.000000</td>\n",
       "      <td>0.000000</td>\n",
       "      <td>0.000000</td>\n",
       "      <td>0.000000</td>\n",
       "      <td>0.078000</td>\n",
       "      <td>21.000000</td>\n",
       "      <td>0.000000</td>\n",
       "    </tr>\n",
       "    <tr>\n",
       "      <th>25%</th>\n",
       "      <td>1.000000</td>\n",
       "      <td>99.000000</td>\n",
       "      <td>62.000000</td>\n",
       "      <td>0.000000</td>\n",
       "      <td>0.000000</td>\n",
       "      <td>27.300000</td>\n",
       "      <td>0.243750</td>\n",
       "      <td>24.000000</td>\n",
       "      <td>0.000000</td>\n",
       "    </tr>\n",
       "    <tr>\n",
       "      <th>50%</th>\n",
       "      <td>3.000000</td>\n",
       "      <td>117.000000</td>\n",
       "      <td>72.000000</td>\n",
       "      <td>23.000000</td>\n",
       "      <td>30.500000</td>\n",
       "      <td>32.000000</td>\n",
       "      <td>0.372500</td>\n",
       "      <td>29.000000</td>\n",
       "      <td>0.000000</td>\n",
       "    </tr>\n",
       "    <tr>\n",
       "      <th>75%</th>\n",
       "      <td>6.000000</td>\n",
       "      <td>140.250000</td>\n",
       "      <td>80.000000</td>\n",
       "      <td>32.000000</td>\n",
       "      <td>127.250000</td>\n",
       "      <td>36.600000</td>\n",
       "      <td>0.626250</td>\n",
       "      <td>41.000000</td>\n",
       "      <td>1.000000</td>\n",
       "    </tr>\n",
       "    <tr>\n",
       "      <th>max</th>\n",
       "      <td>17.000000</td>\n",
       "      <td>199.000000</td>\n",
       "      <td>122.000000</td>\n",
       "      <td>99.000000</td>\n",
       "      <td>846.000000</td>\n",
       "      <td>67.100000</td>\n",
       "      <td>2.420000</td>\n",
       "      <td>81.000000</td>\n",
       "      <td>1.000000</td>\n",
       "    </tr>\n",
       "  </tbody>\n",
       "</table>\n",
       "</div>"
      ],
      "text/plain": [
       "       Pregnancies     Glucose  BloodPressure  SkinThickness     Insulin  \\\n",
       "count   768.000000  768.000000     768.000000     768.000000  768.000000   \n",
       "mean      3.845052  120.894531      69.105469      20.536458   79.799479   \n",
       "std       3.369578   31.972618      19.355807      15.952218  115.244002   \n",
       "min       0.000000    0.000000       0.000000       0.000000    0.000000   \n",
       "25%       1.000000   99.000000      62.000000       0.000000    0.000000   \n",
       "50%       3.000000  117.000000      72.000000      23.000000   30.500000   \n",
       "75%       6.000000  140.250000      80.000000      32.000000  127.250000   \n",
       "max      17.000000  199.000000     122.000000      99.000000  846.000000   \n",
       "\n",
       "              BMI  DiabetesPedigreeFunction         Age     Outcome  \n",
       "count  768.000000                768.000000  768.000000  768.000000  \n",
       "mean    31.992578                  0.471876   33.240885    0.348958  \n",
       "std      7.884160                  0.331329   11.760232    0.476951  \n",
       "min      0.000000                  0.078000   21.000000    0.000000  \n",
       "25%     27.300000                  0.243750   24.000000    0.000000  \n",
       "50%     32.000000                  0.372500   29.000000    0.000000  \n",
       "75%     36.600000                  0.626250   41.000000    1.000000  \n",
       "max     67.100000                  2.420000   81.000000    1.000000  "
      ]
     },
     "execution_count": 12,
     "metadata": {},
     "output_type": "execute_result"
    }
   ],
   "source": [
    "df.describe()"
   ]
  },
  {
   "cell_type": "code",
   "execution_count": 13,
   "id": "cae50b55",
   "metadata": {
    "execution": {
     "iopub.execute_input": "2022-10-03T09:37:10.966496Z",
     "iopub.status.busy": "2022-10-03T09:37:10.966088Z",
     "iopub.status.idle": "2022-10-03T09:37:10.979498Z",
     "shell.execute_reply": "2022-10-03T09:37:10.978632Z"
    },
    "papermill": {
     "duration": 0.028072,
     "end_time": "2022-10-03T09:37:10.981874",
     "exception": false,
     "start_time": "2022-10-03T09:37:10.953802",
     "status": "completed"
    },
    "tags": []
   },
   "outputs": [
    {
     "data": {
      "text/plain": [
       "5"
      ]
     },
     "execution_count": 13,
     "metadata": {},
     "output_type": "execute_result"
    }
   ],
   "source": [
    "df[df.Glucose==0].value_counts().sum()"
   ]
  },
  {
   "cell_type": "code",
   "execution_count": 14,
   "id": "b3ebae69",
   "metadata": {
    "execution": {
     "iopub.execute_input": "2022-10-03T09:37:11.003109Z",
     "iopub.status.busy": "2022-10-03T09:37:11.002690Z",
     "iopub.status.idle": "2022-10-03T09:37:11.014454Z",
     "shell.execute_reply": "2022-10-03T09:37:11.013618Z"
    },
    "papermill": {
     "duration": 0.025594,
     "end_time": "2022-10-03T09:37:11.016989",
     "exception": false,
     "start_time": "2022-10-03T09:37:10.991395",
     "status": "completed"
    },
    "tags": []
   },
   "outputs": [
    {
     "data": {
      "text/plain": [
       "35"
      ]
     },
     "execution_count": 14,
     "metadata": {},
     "output_type": "execute_result"
    }
   ],
   "source": [
    "df[df.BloodPressure==0].value_counts().sum()"
   ]
  },
  {
   "cell_type": "code",
   "execution_count": 15,
   "id": "ea265463",
   "metadata": {
    "execution": {
     "iopub.execute_input": "2022-10-03T09:37:11.038737Z",
     "iopub.status.busy": "2022-10-03T09:37:11.037983Z",
     "iopub.status.idle": "2022-10-03T09:37:11.053183Z",
     "shell.execute_reply": "2022-10-03T09:37:11.051643Z"
    },
    "papermill": {
     "duration": 0.029249,
     "end_time": "2022-10-03T09:37:11.055905",
     "exception": false,
     "start_time": "2022-10-03T09:37:11.026656",
     "status": "completed"
    },
    "tags": []
   },
   "outputs": [
    {
     "data": {
      "text/plain": [
       "227"
      ]
     },
     "execution_count": 15,
     "metadata": {},
     "output_type": "execute_result"
    }
   ],
   "source": [
    "df[df.SkinThickness==0].value_counts().sum()"
   ]
  },
  {
   "cell_type": "code",
   "execution_count": 16,
   "id": "a4aee60a",
   "metadata": {
    "execution": {
     "iopub.execute_input": "2022-10-03T09:37:11.077794Z",
     "iopub.status.busy": "2022-10-03T09:37:11.076693Z",
     "iopub.status.idle": "2022-10-03T09:37:11.089691Z",
     "shell.execute_reply": "2022-10-03T09:37:11.088609Z"
    },
    "papermill": {
     "duration": 0.026304,
     "end_time": "2022-10-03T09:37:11.092046",
     "exception": false,
     "start_time": "2022-10-03T09:37:11.065742",
     "status": "completed"
    },
    "tags": []
   },
   "outputs": [
    {
     "data": {
      "text/plain": [
       "11"
      ]
     },
     "execution_count": 16,
     "metadata": {},
     "output_type": "execute_result"
    }
   ],
   "source": [
    "df[df.BMI==0].value_counts().sum()"
   ]
  },
  {
   "cell_type": "code",
   "execution_count": 17,
   "id": "3e70db5d",
   "metadata": {
    "execution": {
     "iopub.execute_input": "2022-10-03T09:37:11.114350Z",
     "iopub.status.busy": "2022-10-03T09:37:11.113931Z",
     "iopub.status.idle": "2022-10-03T09:37:11.118582Z",
     "shell.execute_reply": "2022-10-03T09:37:11.117565Z"
    },
    "papermill": {
     "duration": 0.018521,
     "end_time": "2022-10-03T09:37:11.120709",
     "exception": false,
     "start_time": "2022-10-03T09:37:11.102188",
     "status": "completed"
    },
    "tags": []
   },
   "outputs": [],
   "source": [
    "# df['Glucose'] = df['Glucose'].replace(0,np.mean(df['Glucose']))\n",
    "# df['BloodPressure'] = df['BloodPressure'].replace(0,np.mean(df['BloodPressure']))\n",
    "# df['SkinThickness'] = df['SkinThickness'].replace(0,np.mean(df['SkinThickness']))\n",
    "# df['BMI'] = df['BMI'].replace(0,np.mean(df['BMI']))"
   ]
  },
  {
   "cell_type": "code",
   "execution_count": 18,
   "id": "3a68d498",
   "metadata": {
    "execution": {
     "iopub.execute_input": "2022-10-03T09:37:11.141726Z",
     "iopub.status.busy": "2022-10-03T09:37:11.141290Z",
     "iopub.status.idle": "2022-10-03T09:37:11.180754Z",
     "shell.execute_reply": "2022-10-03T09:37:11.179589Z"
    },
    "papermill": {
     "duration": 0.052867,
     "end_time": "2022-10-03T09:37:11.183227",
     "exception": false,
     "start_time": "2022-10-03T09:37:11.130360",
     "status": "completed"
    },
    "tags": []
   },
   "outputs": [
    {
     "data": {
      "text/html": [
       "<div>\n",
       "<style scoped>\n",
       "    .dataframe tbody tr th:only-of-type {\n",
       "        vertical-align: middle;\n",
       "    }\n",
       "\n",
       "    .dataframe tbody tr th {\n",
       "        vertical-align: top;\n",
       "    }\n",
       "\n",
       "    .dataframe thead th {\n",
       "        text-align: right;\n",
       "    }\n",
       "</style>\n",
       "<table border=\"1\" class=\"dataframe\">\n",
       "  <thead>\n",
       "    <tr style=\"text-align: right;\">\n",
       "      <th></th>\n",
       "      <th>Pregnancies</th>\n",
       "      <th>Glucose</th>\n",
       "      <th>BloodPressure</th>\n",
       "      <th>SkinThickness</th>\n",
       "      <th>Insulin</th>\n",
       "      <th>BMI</th>\n",
       "      <th>DiabetesPedigreeFunction</th>\n",
       "      <th>Age</th>\n",
       "      <th>Outcome</th>\n",
       "    </tr>\n",
       "  </thead>\n",
       "  <tbody>\n",
       "    <tr>\n",
       "      <th>count</th>\n",
       "      <td>768.000000</td>\n",
       "      <td>768.000000</td>\n",
       "      <td>768.000000</td>\n",
       "      <td>768.000000</td>\n",
       "      <td>768.000000</td>\n",
       "      <td>768.000000</td>\n",
       "      <td>768.000000</td>\n",
       "      <td>768.000000</td>\n",
       "      <td>768.000000</td>\n",
       "    </tr>\n",
       "    <tr>\n",
       "      <th>mean</th>\n",
       "      <td>3.845052</td>\n",
       "      <td>120.894531</td>\n",
       "      <td>69.105469</td>\n",
       "      <td>20.536458</td>\n",
       "      <td>79.799479</td>\n",
       "      <td>31.992578</td>\n",
       "      <td>0.471876</td>\n",
       "      <td>33.240885</td>\n",
       "      <td>0.348958</td>\n",
       "    </tr>\n",
       "    <tr>\n",
       "      <th>std</th>\n",
       "      <td>3.369578</td>\n",
       "      <td>31.972618</td>\n",
       "      <td>19.355807</td>\n",
       "      <td>15.952218</td>\n",
       "      <td>115.244002</td>\n",
       "      <td>7.884160</td>\n",
       "      <td>0.331329</td>\n",
       "      <td>11.760232</td>\n",
       "      <td>0.476951</td>\n",
       "    </tr>\n",
       "    <tr>\n",
       "      <th>min</th>\n",
       "      <td>0.000000</td>\n",
       "      <td>0.000000</td>\n",
       "      <td>0.000000</td>\n",
       "      <td>0.000000</td>\n",
       "      <td>0.000000</td>\n",
       "      <td>0.000000</td>\n",
       "      <td>0.078000</td>\n",
       "      <td>21.000000</td>\n",
       "      <td>0.000000</td>\n",
       "    </tr>\n",
       "    <tr>\n",
       "      <th>25%</th>\n",
       "      <td>1.000000</td>\n",
       "      <td>99.000000</td>\n",
       "      <td>62.000000</td>\n",
       "      <td>0.000000</td>\n",
       "      <td>0.000000</td>\n",
       "      <td>27.300000</td>\n",
       "      <td>0.243750</td>\n",
       "      <td>24.000000</td>\n",
       "      <td>0.000000</td>\n",
       "    </tr>\n",
       "    <tr>\n",
       "      <th>50%</th>\n",
       "      <td>3.000000</td>\n",
       "      <td>117.000000</td>\n",
       "      <td>72.000000</td>\n",
       "      <td>23.000000</td>\n",
       "      <td>30.500000</td>\n",
       "      <td>32.000000</td>\n",
       "      <td>0.372500</td>\n",
       "      <td>29.000000</td>\n",
       "      <td>0.000000</td>\n",
       "    </tr>\n",
       "    <tr>\n",
       "      <th>75%</th>\n",
       "      <td>6.000000</td>\n",
       "      <td>140.250000</td>\n",
       "      <td>80.000000</td>\n",
       "      <td>32.000000</td>\n",
       "      <td>127.250000</td>\n",
       "      <td>36.600000</td>\n",
       "      <td>0.626250</td>\n",
       "      <td>41.000000</td>\n",
       "      <td>1.000000</td>\n",
       "    </tr>\n",
       "    <tr>\n",
       "      <th>max</th>\n",
       "      <td>17.000000</td>\n",
       "      <td>199.000000</td>\n",
       "      <td>122.000000</td>\n",
       "      <td>99.000000</td>\n",
       "      <td>846.000000</td>\n",
       "      <td>67.100000</td>\n",
       "      <td>2.420000</td>\n",
       "      <td>81.000000</td>\n",
       "      <td>1.000000</td>\n",
       "    </tr>\n",
       "  </tbody>\n",
       "</table>\n",
       "</div>"
      ],
      "text/plain": [
       "       Pregnancies     Glucose  BloodPressure  SkinThickness     Insulin  \\\n",
       "count   768.000000  768.000000     768.000000     768.000000  768.000000   \n",
       "mean      3.845052  120.894531      69.105469      20.536458   79.799479   \n",
       "std       3.369578   31.972618      19.355807      15.952218  115.244002   \n",
       "min       0.000000    0.000000       0.000000       0.000000    0.000000   \n",
       "25%       1.000000   99.000000      62.000000       0.000000    0.000000   \n",
       "50%       3.000000  117.000000      72.000000      23.000000   30.500000   \n",
       "75%       6.000000  140.250000      80.000000      32.000000  127.250000   \n",
       "max      17.000000  199.000000     122.000000      99.000000  846.000000   \n",
       "\n",
       "              BMI  DiabetesPedigreeFunction         Age     Outcome  \n",
       "count  768.000000                768.000000  768.000000  768.000000  \n",
       "mean    31.992578                  0.471876   33.240885    0.348958  \n",
       "std      7.884160                  0.331329   11.760232    0.476951  \n",
       "min      0.000000                  0.078000   21.000000    0.000000  \n",
       "25%     27.300000                  0.243750   24.000000    0.000000  \n",
       "50%     32.000000                  0.372500   29.000000    0.000000  \n",
       "75%     36.600000                  0.626250   41.000000    1.000000  \n",
       "max     67.100000                  2.420000   81.000000    1.000000  "
      ]
     },
     "execution_count": 18,
     "metadata": {},
     "output_type": "execute_result"
    }
   ],
   "source": [
    "df.describe()"
   ]
  },
  {
   "cell_type": "code",
   "execution_count": 19,
   "id": "cd8f89bf",
   "metadata": {
    "execution": {
     "iopub.execute_input": "2022-10-03T09:37:11.205327Z",
     "iopub.status.busy": "2022-10-03T09:37:11.204924Z",
     "iopub.status.idle": "2022-10-03T09:37:11.440675Z",
     "shell.execute_reply": "2022-10-03T09:37:11.439562Z"
    },
    "papermill": {
     "duration": 0.249653,
     "end_time": "2022-10-03T09:37:11.443259",
     "exception": false,
     "start_time": "2022-10-03T09:37:11.193606",
     "status": "completed"
    },
    "tags": []
   },
   "outputs": [],
   "source": [
    "from sklearn.model_selection import train_test_split"
   ]
  },
  {
   "cell_type": "code",
   "execution_count": 20,
   "id": "b099f344",
   "metadata": {
    "execution": {
     "iopub.execute_input": "2022-10-03T09:37:11.464727Z",
     "iopub.status.busy": "2022-10-03T09:37:11.464315Z",
     "iopub.status.idle": "2022-10-03T09:37:11.473593Z",
     "shell.execute_reply": "2022-10-03T09:37:11.472533Z"
    },
    "papermill": {
     "duration": 0.022575,
     "end_time": "2022-10-03T09:37:11.475936",
     "exception": false,
     "start_time": "2022-10-03T09:37:11.453361",
     "status": "completed"
    },
    "tags": []
   },
   "outputs": [],
   "source": [
    "X_train,X_test,y_train,y_test = train_test_split(df.drop('Outcome',axis=1),\n",
    "                                                 df['Outcome'],test_size=0.2,\n",
    "                                                 random_state=0)"
   ]
  },
  {
   "cell_type": "code",
   "execution_count": 21,
   "id": "eecab233",
   "metadata": {
    "execution": {
     "iopub.execute_input": "2022-10-03T09:37:11.497845Z",
     "iopub.status.busy": "2022-10-03T09:37:11.497157Z",
     "iopub.status.idle": "2022-10-03T09:37:11.504868Z",
     "shell.execute_reply": "2022-10-03T09:37:11.503580Z"
    },
    "papermill": {
     "duration": 0.021188,
     "end_time": "2022-10-03T09:37:11.507221",
     "exception": false,
     "start_time": "2022-10-03T09:37:11.486033",
     "status": "completed"
    },
    "tags": []
   },
   "outputs": [
    {
     "data": {
      "text/plain": [
       "((614, 8), (154, 8))"
      ]
     },
     "execution_count": 21,
     "metadata": {},
     "output_type": "execute_result"
    }
   ],
   "source": [
    "X_train.shape,X_test.shape"
   ]
  },
  {
   "cell_type": "code",
   "execution_count": 22,
   "id": "876bc49c",
   "metadata": {
    "execution": {
     "iopub.execute_input": "2022-10-03T09:37:11.529595Z",
     "iopub.status.busy": "2022-10-03T09:37:11.529161Z",
     "iopub.status.idle": "2022-10-03T09:37:11.542788Z",
     "shell.execute_reply": "2022-10-03T09:37:11.541587Z"
    },
    "papermill": {
     "duration": 0.02756,
     "end_time": "2022-10-03T09:37:11.545423",
     "exception": false,
     "start_time": "2022-10-03T09:37:11.517863",
     "status": "completed"
    },
    "tags": []
   },
   "outputs": [],
   "source": [
    "from sklearn.preprocessing import MaxAbsScaler\n",
    "scaler = MaxAbsScaler()\n",
    "\n",
    "#fitting\n",
    "scaler.fit(X_train)\n",
    "\n",
    "#transforming\n",
    "X_train_scaled = scaler.transform(X_train)\n",
    "X_test_scaled = scaler.transform(X_test)"
   ]
  },
  {
   "cell_type": "code",
   "execution_count": 23,
   "id": "ffa5d52d",
   "metadata": {
    "execution": {
     "iopub.execute_input": "2022-10-03T09:37:11.567302Z",
     "iopub.status.busy": "2022-10-03T09:37:11.566892Z",
     "iopub.status.idle": "2022-10-03T09:37:11.573690Z",
     "shell.execute_reply": "2022-10-03T09:37:11.572561Z"
    },
    "papermill": {
     "duration": 0.020375,
     "end_time": "2022-10-03T09:37:11.576056",
     "exception": false,
     "start_time": "2022-10-03T09:37:11.555681",
     "status": "completed"
    },
    "tags": []
   },
   "outputs": [],
   "source": [
    "X_train_scaled = pd.DataFrame(X_train_scaled,columns=X_train.columns)\n",
    "X_test_scaled = pd.DataFrame(X_test_scaled,columns=X_test.columns)"
   ]
  },
  {
   "cell_type": "code",
   "execution_count": 24,
   "id": "70f57ea0",
   "metadata": {
    "execution": {
     "iopub.execute_input": "2022-10-03T09:37:11.598616Z",
     "iopub.status.busy": "2022-10-03T09:37:11.598150Z",
     "iopub.status.idle": "2022-10-03T09:37:11.642686Z",
     "shell.execute_reply": "2022-10-03T09:37:11.641525Z"
    },
    "papermill": {
     "duration": 0.058822,
     "end_time": "2022-10-03T09:37:11.645120",
     "exception": false,
     "start_time": "2022-10-03T09:37:11.586298",
     "status": "completed"
    },
    "tags": []
   },
   "outputs": [
    {
     "data": {
      "text/html": [
       "<div>\n",
       "<style scoped>\n",
       "    .dataframe tbody tr th:only-of-type {\n",
       "        vertical-align: middle;\n",
       "    }\n",
       "\n",
       "    .dataframe tbody tr th {\n",
       "        vertical-align: top;\n",
       "    }\n",
       "\n",
       "    .dataframe thead th {\n",
       "        text-align: right;\n",
       "    }\n",
       "</style>\n",
       "<table border=\"1\" class=\"dataframe\">\n",
       "  <thead>\n",
       "    <tr style=\"text-align: right;\">\n",
       "      <th></th>\n",
       "      <th>Pregnancies</th>\n",
       "      <th>Glucose</th>\n",
       "      <th>BloodPressure</th>\n",
       "      <th>SkinThickness</th>\n",
       "      <th>Insulin</th>\n",
       "      <th>BMI</th>\n",
       "      <th>DiabetesPedigreeFunction</th>\n",
       "      <th>Age</th>\n",
       "    </tr>\n",
       "  </thead>\n",
       "  <tbody>\n",
       "    <tr>\n",
       "      <th>count</th>\n",
       "      <td>614.0</td>\n",
       "      <td>614.0</td>\n",
       "      <td>614.0</td>\n",
       "      <td>614.0</td>\n",
       "      <td>614.0</td>\n",
       "      <td>614.0</td>\n",
       "      <td>614.0</td>\n",
       "      <td>614.0</td>\n",
       "    </tr>\n",
       "    <tr>\n",
       "      <th>mean</th>\n",
       "      <td>0.2</td>\n",
       "      <td>0.6</td>\n",
       "      <td>0.6</td>\n",
       "      <td>0.2</td>\n",
       "      <td>0.1</td>\n",
       "      <td>0.5</td>\n",
       "      <td>0.2</td>\n",
       "      <td>0.4</td>\n",
       "    </tr>\n",
       "    <tr>\n",
       "      <th>std</th>\n",
       "      <td>0.2</td>\n",
       "      <td>0.2</td>\n",
       "      <td>0.2</td>\n",
       "      <td>0.2</td>\n",
       "      <td>0.1</td>\n",
       "      <td>0.1</td>\n",
       "      <td>0.1</td>\n",
       "      <td>0.1</td>\n",
       "    </tr>\n",
       "    <tr>\n",
       "      <th>min</th>\n",
       "      <td>0.0</td>\n",
       "      <td>0.0</td>\n",
       "      <td>0.0</td>\n",
       "      <td>0.0</td>\n",
       "      <td>0.0</td>\n",
       "      <td>0.0</td>\n",
       "      <td>0.0</td>\n",
       "      <td>0.3</td>\n",
       "    </tr>\n",
       "    <tr>\n",
       "      <th>25%</th>\n",
       "      <td>0.1</td>\n",
       "      <td>0.5</td>\n",
       "      <td>0.5</td>\n",
       "      <td>0.0</td>\n",
       "      <td>0.0</td>\n",
       "      <td>0.4</td>\n",
       "      <td>0.1</td>\n",
       "      <td>0.3</td>\n",
       "    </tr>\n",
       "    <tr>\n",
       "      <th>50%</th>\n",
       "      <td>0.2</td>\n",
       "      <td>0.6</td>\n",
       "      <td>0.6</td>\n",
       "      <td>0.2</td>\n",
       "      <td>0.0</td>\n",
       "      <td>0.5</td>\n",
       "      <td>0.2</td>\n",
       "      <td>0.4</td>\n",
       "    </tr>\n",
       "    <tr>\n",
       "      <th>75%</th>\n",
       "      <td>0.4</td>\n",
       "      <td>0.7</td>\n",
       "      <td>0.7</td>\n",
       "      <td>0.3</td>\n",
       "      <td>0.2</td>\n",
       "      <td>0.5</td>\n",
       "      <td>0.3</td>\n",
       "      <td>0.5</td>\n",
       "    </tr>\n",
       "    <tr>\n",
       "      <th>max</th>\n",
       "      <td>1.0</td>\n",
       "      <td>1.0</td>\n",
       "      <td>1.0</td>\n",
       "      <td>1.0</td>\n",
       "      <td>1.0</td>\n",
       "      <td>1.0</td>\n",
       "      <td>1.0</td>\n",
       "      <td>1.0</td>\n",
       "    </tr>\n",
       "  </tbody>\n",
       "</table>\n",
       "</div>"
      ],
      "text/plain": [
       "       Pregnancies  Glucose  BloodPressure  SkinThickness  Insulin    BMI  \\\n",
       "count        614.0    614.0          614.0          614.0    614.0  614.0   \n",
       "mean           0.2      0.6            0.6            0.2      0.1    0.5   \n",
       "std            0.2      0.2            0.2            0.2      0.1    0.1   \n",
       "min            0.0      0.0            0.0            0.0      0.0    0.0   \n",
       "25%            0.1      0.5            0.5            0.0      0.0    0.4   \n",
       "50%            0.2      0.6            0.6            0.2      0.0    0.5   \n",
       "75%            0.4      0.7            0.7            0.3      0.2    0.5   \n",
       "max            1.0      1.0            1.0            1.0      1.0    1.0   \n",
       "\n",
       "       DiabetesPedigreeFunction    Age  \n",
       "count                     614.0  614.0  \n",
       "mean                        0.2    0.4  \n",
       "std                         0.1    0.1  \n",
       "min                         0.0    0.3  \n",
       "25%                         0.1    0.3  \n",
       "50%                         0.2    0.4  \n",
       "75%                         0.3    0.5  \n",
       "max                         1.0    1.0  "
      ]
     },
     "execution_count": 24,
     "metadata": {},
     "output_type": "execute_result"
    }
   ],
   "source": [
    "np.round(X_train_scaled.describe(),1)"
   ]
  },
  {
   "cell_type": "code",
   "execution_count": 25,
   "id": "05f75053",
   "metadata": {
    "execution": {
     "iopub.execute_input": "2022-10-03T09:37:11.668563Z",
     "iopub.status.busy": "2022-10-03T09:37:11.668105Z",
     "iopub.status.idle": "2022-10-03T09:37:11.761792Z",
     "shell.execute_reply": "2022-10-03T09:37:11.760502Z"
    },
    "papermill": {
     "duration": 0.108913,
     "end_time": "2022-10-03T09:37:11.764635",
     "exception": false,
     "start_time": "2022-10-03T09:37:11.655722",
     "status": "completed"
    },
    "tags": []
   },
   "outputs": [],
   "source": [
    "from sklearn.linear_model import LogisticRegression"
   ]
  },
  {
   "cell_type": "code",
   "execution_count": 26,
   "id": "0e033bce",
   "metadata": {
    "execution": {
     "iopub.execute_input": "2022-10-03T09:37:11.787385Z",
     "iopub.status.busy": "2022-10-03T09:37:11.786556Z",
     "iopub.status.idle": "2022-10-03T09:37:11.792567Z",
     "shell.execute_reply": "2022-10-03T09:37:11.791501Z"
    },
    "papermill": {
     "duration": 0.019958,
     "end_time": "2022-10-03T09:37:11.794911",
     "exception": false,
     "start_time": "2022-10-03T09:37:11.774953",
     "status": "completed"
    },
    "tags": []
   },
   "outputs": [],
   "source": [
    "lr = LogisticRegression()\n",
    "lr_scaled = LogisticRegression()"
   ]
  },
  {
   "cell_type": "code",
   "execution_count": 27,
   "id": "f9a78942",
   "metadata": {
    "execution": {
     "iopub.execute_input": "2022-10-03T09:37:11.817145Z",
     "iopub.status.busy": "2022-10-03T09:37:11.816768Z",
     "iopub.status.idle": "2022-10-03T09:37:11.878000Z",
     "shell.execute_reply": "2022-10-03T09:37:11.876723Z"
    },
    "papermill": {
     "duration": 0.075216,
     "end_time": "2022-10-03T09:37:11.880524",
     "exception": false,
     "start_time": "2022-10-03T09:37:11.805308",
     "status": "completed"
    },
    "tags": []
   },
   "outputs": [
    {
     "name": "stderr",
     "output_type": "stream",
     "text": [
      "/opt/conda/lib/python3.7/site-packages/sklearn/linear_model/_logistic.py:818: ConvergenceWarning: lbfgs failed to converge (status=1):\n",
      "STOP: TOTAL NO. of ITERATIONS REACHED LIMIT.\n",
      "\n",
      "Increase the number of iterations (max_iter) or scale the data as shown in:\n",
      "    https://scikit-learn.org/stable/modules/preprocessing.html\n",
      "Please also refer to the documentation for alternative solver options:\n",
      "    https://scikit-learn.org/stable/modules/linear_model.html#logistic-regression\n",
      "  extra_warning_msg=_LOGISTIC_SOLVER_CONVERGENCE_MSG,\n"
     ]
    },
    {
     "data": {
      "text/plain": [
       "LogisticRegression()"
      ]
     },
     "execution_count": 27,
     "metadata": {},
     "output_type": "execute_result"
    }
   ],
   "source": [
    "lr.fit(X_train,y_train)\n",
    "lr_scaled.fit(X_train_scaled,y_train)"
   ]
  },
  {
   "cell_type": "code",
   "execution_count": 28,
   "id": "d1b2ac1c",
   "metadata": {
    "execution": {
     "iopub.execute_input": "2022-10-03T09:37:11.904482Z",
     "iopub.status.busy": "2022-10-03T09:37:11.903274Z",
     "iopub.status.idle": "2022-10-03T09:37:11.913962Z",
     "shell.execute_reply": "2022-10-03T09:37:11.912530Z"
    },
    "papermill": {
     "duration": 0.025311,
     "end_time": "2022-10-03T09:37:11.916496",
     "exception": false,
     "start_time": "2022-10-03T09:37:11.891185",
     "status": "completed"
    },
    "tags": []
   },
   "outputs": [],
   "source": [
    "y_pred = lr.predict(X_test)\n",
    "y_pred_scaled = lr_scaled.predict(X_test_scaled)"
   ]
  },
  {
   "cell_type": "code",
   "execution_count": 29,
   "id": "eaebb843",
   "metadata": {
    "execution": {
     "iopub.execute_input": "2022-10-03T09:37:11.939794Z",
     "iopub.status.busy": "2022-10-03T09:37:11.939325Z",
     "iopub.status.idle": "2022-10-03T09:37:11.945868Z",
     "shell.execute_reply": "2022-10-03T09:37:11.944540Z"
    },
    "papermill": {
     "duration": 0.021263,
     "end_time": "2022-10-03T09:37:11.948180",
     "exception": false,
     "start_time": "2022-10-03T09:37:11.926917",
     "status": "completed"
    },
    "tags": []
   },
   "outputs": [],
   "source": [
    "from sklearn.metrics import accuracy_score"
   ]
  },
  {
   "cell_type": "code",
   "execution_count": 30,
   "id": "c4a5c69f",
   "metadata": {
    "execution": {
     "iopub.execute_input": "2022-10-03T09:37:11.971180Z",
     "iopub.status.busy": "2022-10-03T09:37:11.970762Z",
     "iopub.status.idle": "2022-10-03T09:37:11.979328Z",
     "shell.execute_reply": "2022-10-03T09:37:11.978469Z"
    },
    "papermill": {
     "duration": 0.023372,
     "end_time": "2022-10-03T09:37:11.981846",
     "exception": false,
     "start_time": "2022-10-03T09:37:11.958474",
     "status": "completed"
    },
    "tags": []
   },
   "outputs": [
    {
     "data": {
      "text/plain": [
       "0.8246753246753247"
      ]
     },
     "execution_count": 30,
     "metadata": {},
     "output_type": "execute_result"
    }
   ],
   "source": [
    "accuracy_score(y_test,y_pred)"
   ]
  },
  {
   "cell_type": "code",
   "execution_count": 31,
   "id": "9bf83ff3",
   "metadata": {
    "execution": {
     "iopub.execute_input": "2022-10-03T09:37:12.005185Z",
     "iopub.status.busy": "2022-10-03T09:37:12.004781Z",
     "iopub.status.idle": "2022-10-03T09:37:12.012264Z",
     "shell.execute_reply": "2022-10-03T09:37:12.011444Z"
    },
    "papermill": {
     "duration": 0.021877,
     "end_time": "2022-10-03T09:37:12.014544",
     "exception": false,
     "start_time": "2022-10-03T09:37:11.992667",
     "status": "completed"
    },
    "tags": []
   },
   "outputs": [
    {
     "data": {
      "text/plain": [
       "0.8181818181818182"
      ]
     },
     "execution_count": 31,
     "metadata": {},
     "output_type": "execute_result"
    }
   ],
   "source": [
    "accuracy_score(y_test,y_pred_scaled)"
   ]
  },
  {
   "cell_type": "code",
   "execution_count": null,
   "id": "f5a3a6e2",
   "metadata": {
    "papermill": {
     "duration": 0.010808,
     "end_time": "2022-10-03T09:37:12.036340",
     "exception": false,
     "start_time": "2022-10-03T09:37:12.025532",
     "status": "completed"
    },
    "tags": []
   },
   "outputs": [],
   "source": []
  }
 ],
 "metadata": {
  "kernelspec": {
   "display_name": "Python 3",
   "language": "python",
   "name": "python3"
  },
  "language_info": {
   "codemirror_mode": {
    "name": "ipython",
    "version": 3
   },
   "file_extension": ".py",
   "mimetype": "text/x-python",
   "name": "python",
   "nbconvert_exporter": "python",
   "pygments_lexer": "ipython3",
   "version": "3.7.12"
  },
  "papermill": {
   "default_parameters": {},
   "duration": 14.920108,
   "end_time": "2022-10-03T09:37:12.873036",
   "environment_variables": {},
   "exception": null,
   "input_path": "__notebook__.ipynb",
   "output_path": "__notebook__.ipynb",
   "parameters": {},
   "start_time": "2022-10-03T09:36:57.952928",
   "version": "2.3.4"
  }
 },
 "nbformat": 4,
 "nbformat_minor": 5
}
